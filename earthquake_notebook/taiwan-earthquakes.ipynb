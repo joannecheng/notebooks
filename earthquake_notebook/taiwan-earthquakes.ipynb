{
 "cells": [
  {
   "cell_type": "code",
   "execution_count": 6,
   "metadata": {
    "collapsed": false
   },
   "outputs": [],
   "source": [
    "import pandas as pd\n",
    "import requests\n",
    "import arrow"
   ]
  },
  {
   "cell_type": "code",
   "execution_count": 7,
   "metadata": {
    "collapsed": false
   },
   "outputs": [],
   "source": [
    "#earthquakes = pd.read_csv(\"https://earthquake.usgs.gov/earthquakes/feed/v1.0/summary/all_week.csv\")\n",
    "#tw_bb = (120.106188593, 21.9705713974, 121.951243931, 25.2954588893)\n",
    "#taiwan_earthquakes_usgs = earthquakes[(earthquakes[\"latitude\"] >= 21.9705713974) & (earthquakes[\"latitude\"] <= 25.2954588893)]\n",
    "# Unfortunately, only the major earthquakes made it to usgs' feed\n",
    "# better source: \"http://www.cwb.gov.tw/V7e/earthquake/seismic.htm\"\n",
    "\n",
    "def find_earthquakes(soup):\n",
    "    earthquakes = []\n",
    "    for tr in soup.find_all(\"tr\")[1::]:\n",
    "        content = tr.find_all(\"a\")\n",
    "        if len(content) > 1:\n",
    "            ts = arrow.get(content[1].text, tzinfo=\"+0800\")\n",
    "            lon = float(content[2].text)\n",
    "            lat = float(content[3].text)\n",
    "            mag = float(content[4].text)\n",
    "            desc = content[6].text\n",
    "            earthquakes.append([ts, lon, lat, mag, desc[1::]])\n",
    "    return earthquakes"
   ]
  },
  {
   "cell_type": "code",
   "execution_count": 8,
   "metadata": {
    "collapsed": false,
    "scrolled": true
   },
   "outputs": [
    {
     "name": "stderr",
     "output_type": "stream",
     "text": [
      "/Users/joannecheng/dev/notebooks/notebookenv/lib/python3.5/site-packages/selenium/webdriver/phantomjs/webdriver.py:49: UserWarning: Selenium support for PhantomJS has been deprecated, please use headless versions of Chrome or Firefox instead\n",
      "  warnings.warn('Selenium support for PhantomJS has been deprecated, please use headless '\n"
     ]
    }
   ],
   "source": [
    "from selenium import webdriver\n",
    "from selenium.webdriver.support.ui import Select\n",
    "from bs4 import BeautifulSoup\n",
    "import csv\n",
    "\n",
    "select_months = [\"1\", \"2\", \"3\"]\n",
    "all_earthquakes = []\n",
    "\n",
    "# Get earthquake data for Jan, Feb, March\n",
    "driver = webdriver.PhantomJS()\n",
    "driver.get(\"https://scweb.cwb.gov.tw/Page.aspx?ItemId=26&loc=en&gis=n\")\n",
    "\n",
    "for month in select_months:\n",
    "    select = Select(driver.find_element_by_id(\"ctl03_ddlMonth\"))\n",
    "    select.select_by_visible_text(month)\n",
    "\n",
    "    sbtn = driver.find_element_by_id(\"ctl03_btnSearch\")\n",
    "    sbtn.click()\n",
    "\n",
    "    soup = BeautifulSoup(driver.page_source, \"html5lib\")\n",
    "    all_earthquakes += find_earthquakes(soup)\n",
    "\n",
    "# cache earthquakes in CSV file\n",
    "with open(\"taiwan_earthquakes.csv\", \"w\") as f:\n",
    "    writer = csv.writer(f)\n",
    "    for row in all_earthquakes:\n",
    "        writer.writerow(row)"
   ]
  },
  {
   "cell_type": "code",
   "execution_count": 19,
   "metadata": {
    "collapsed": false
   },
   "outputs": [],
   "source": [
    "import bokeh\n",
    "from bokeh.plotting import figure, show\n",
    "from bokeh.models import Range1d, Title, ColumnDataSource, HoverTool\n",
    "\n",
    "x = list(map(lambda z: z[0].datetime, all_earthquakes))\n",
    "y = list(map(lambda z: z[3], all_earthquakes))\n",
    "desc = list(map(lambda z: z[4], all_earthquakes))\n",
    "\n",
    "ds = ColumnDataSource({\n",
    "    \"x\": x,\n",
    "    \"y\": y,\n",
    "    \"desc\": desc\n",
    "})\n",
    "\n",
    "hover = HoverTool(tooltips=[\n",
    "        (\"location\", \"@desc\"),\n",
    "        (\"mag\", \"@y\")\n",
    "    ])\n",
    "p = figure(title=\"Earthquakes in Taiwan, Jan - March 2018\", x_axis_type='datetime',\n",
    "           plot_width=900, plot_height=300, tools=[hover])\n",
    "p.add_layout(Title(text=\"source: http://www.cwb.gov.tw/V7e/earthquake/seismic.htm\", align=\"center\"), \"below\")\n",
    "\n",
    "#p.y_range = Range1d(2,7)\n",
    "\n",
    "p.yaxis.axis_label = \"Magnitude\"\n",
    "p.xaxis.axis_label = \"Date\"\n",
    "p.circle(\"x\", \"y\", source=ds, size=3, color=\"steelblue\", alpha=0.7, )\n",
    "\n",
    "show(p)"
   ]
  },
  {
   "cell_type": "code",
   "execution_count": null,
   "metadata": {
    "collapsed": false
   },
   "outputs": [],
   "source": []
  },
  {
   "cell_type": "code",
   "execution_count": null,
   "metadata": {
    "collapsed": false
   },
   "outputs": [],
   "source": [
    "bokeh.io.reset_output()"
   ]
  },
  {
   "cell_type": "code",
   "execution_count": null,
   "metadata": {
    "collapsed": true
   },
   "outputs": [],
   "source": []
  }
 ],
 "metadata": {
  "kernelspec": {
   "display_name": "Python 3",
   "language": "python",
   "name": "python3"
  },
  "language_info": {
   "codemirror_mode": {
    "name": "ipython",
    "version": 3
   },
   "file_extension": ".py",
   "mimetype": "text/x-python",
   "name": "python",
   "nbconvert_exporter": "python",
   "pygments_lexer": "ipython3",
   "version": "3.5.2"
  }
 },
 "nbformat": 4,
 "nbformat_minor": 1
}
